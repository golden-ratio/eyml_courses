{
 "cells": [
  {
   "cell_type": "markdown",
   "metadata": {},
   "source": [
    "# Задание\n",
    "\n",
    "Попробуйте настроить параметры градиентного бустинга на этом датасете, и посмотрите, как изменение отдельных параметров влияет на результат.\n",
    "\n",
    "#### Конечная цель - сказать значение параметров xgb, при которых будет самое хорошее качество на кроссвалидации"
   ]
  },
  {
   "cell_type": "code",
   "execution_count": 4,
   "metadata": {},
   "outputs": [
    {
     "name": "stderr",
     "output_type": "stream",
     "text": [
      "/Users/Timur/anaconda3/lib/python3.6/site-packages/sklearn/cross_validation.py:44: DeprecationWarning: This module was deprecated in version 0.18 in favor of the model_selection module into which all the refactored classes and functions are moved. Also note that the interface of the new CV iterators are different from that of this module. This module will be removed in 0.20.\n",
      "  \"This module will be removed in 0.20.\", DeprecationWarning)\n"
     ]
    },
    {
     "name": "stdout",
     "output_type": "stream",
     "text": [
      "         D1        D2    D3   D4        D5        D6        D7        D8  \\\n",
      "0  0.000000  0.497009  0.10  0.0  0.132956  0.678031  0.273166  0.585445   \n",
      "1  0.366667  0.606291  0.05  0.0  0.111209  0.803455  0.106105  0.411754   \n",
      "2  0.033300  0.480124  0.00  0.0  0.209791  0.610350  0.356453  0.517720   \n",
      "3  0.000000  0.538825  0.00  0.5  0.196344  0.724230  0.235606  0.288764   \n",
      "4  0.100000  0.517794  0.00  0.0  0.494734  0.781422  0.154361  0.303809   \n",
      "\n",
      "         D9       D10  ...    D1767  D1768  D1769  D1770  D1771  D1772  D1773  \\\n",
      "0  0.743663  0.243144  ...        0      0      0      0      0      0      0   \n",
      "1  0.836582  0.106480  ...        1      1      1      1      0      1      0   \n",
      "2  0.679051  0.352308  ...        0      0      0      0      0      0      0   \n",
      "3  0.805110  0.208989  ...        0      0      0      0      0      0      0   \n",
      "4  0.812646  0.125177  ...        0      0      0      0      0      0      0   \n",
      "\n",
      "   D1774  D1775  D1776  \n",
      "0      0      0      0  \n",
      "1      0      1      0  \n",
      "2      0      0      0  \n",
      "3      0      0      0  \n",
      "4      0      0      0  \n",
      "\n",
      "[5 rows x 1776 columns]\n"
     ]
    }
   ],
   "source": [
    "from sklearn.model_selection import cross_val_score\n",
    "import xgboost as xgb\n",
    "import pandas\n",
    "import numpy as np\n",
    "import signal\n",
    "\n",
    "bioresponce = pandas.read_csv('../seminar01/bioresponse.csv', header=0, sep=',')\n",
    "bioresponce_target = bioresponce.Activity.values\n",
    "bioresponce_data = bioresponce.iloc[:, 1:]\n",
    "print(bioresponce_data[:5])\n",
    "\n",
    "def signal_handler(signum, frame):\n",
    "    raise Exception(\"Timed out!\")\n",
    "\n",
    "def estimate_params(params):\n",
    "    signal.signal(signal.SIGALRM, signal_handler)\n",
    "    signal.alarm(30)\n",
    "    estimator = xgb.XGBClassifier(**params)\n",
    "\n",
    "    try:\n",
    "        score = np.mean(cross_val_score(\n",
    "            estimator, bioresponce_data, bioresponce_target,\n",
    "            scoring = 'accuracy', cv = 3\n",
    "        ))\n",
    "    except Exception:\n",
    "        score = None\n",
    "    \n",
    "    return score"
   ]
  },
  {
   "cell_type": "code",
   "execution_count": 5,
   "metadata": {},
   "outputs": [
    {
     "ename": "SyntaxError",
     "evalue": "invalid syntax (<ipython-input-5-46cb74b27b18>, line 1)",
     "output_type": "error",
     "traceback": [
      "\u001b[0;36m  File \u001b[0;32m\"<ipython-input-5-46cb74b27b18>\"\u001b[0;36m, line \u001b[0;32m1\u001b[0m\n\u001b[0;31m    print estimate_params({\u001b[0m\n\u001b[0m                        ^\u001b[0m\n\u001b[0;31mSyntaxError\u001b[0m\u001b[0;31m:\u001b[0m invalid syntax\n"
     ]
    }
   ],
   "source": [
    "print estimate_params({\n",
    "    'learning_rate': 0.1, \n",
    "    'max_depth': 5, \n",
    "    'n_estimators': 100, \n",
    "    'min_child_weight': 3,\n",
    "    'seed': 42\n",
    "})"
   ]
  },
  {
   "cell_type": "code",
   "execution_count": 6,
   "metadata": {},
   "outputs": [
    {
     "ename": "SyntaxError",
     "evalue": "invalid syntax (<ipython-input-6-06b3d41ffedb>, line 1)",
     "output_type": "error",
     "traceback": [
      "\u001b[0;36m  File \u001b[0;32m\"<ipython-input-6-06b3d41ffedb>\"\u001b[0;36m, line \u001b[0;32m1\u001b[0m\n\u001b[0;31m    print estimate_params({\u001b[0m\n\u001b[0m                        ^\u001b[0m\n\u001b[0;31mSyntaxError\u001b[0m\u001b[0;31m:\u001b[0m invalid syntax\n"
     ]
    }
   ],
   "source": [
    "print estimate_params({\n",
    "    'learning_rate': 0.1, \n",
    "    'max_depth': 5, \n",
    "    'n_estimators': 100000, \n",
    "    'min_child_weight': 3,\n",
    "    'seed': 42\n",
    "})"
   ]
  },
  {
   "cell_type": "code",
   "execution_count": 12,
   "metadata": {},
   "outputs": [
    {
     "name": "stdout",
     "output_type": "stream",
     "text": [
      "CPU times: user 32min 31s, sys: 2min 20s, total: 34min 52s\n",
      "Wall time: 35min 6s\n"
     ]
    }
   ],
   "source": [
    "%%time\n",
    "\n",
    "# My GridSearch\n",
    "from sklearn.model_selection import GridSearchCV\n",
    "n_trees = [1] + list(range(5, 55, 5))\n",
    "parameters = {\n",
    "    'learning_rate': [0.1, 0.5, 1],\n",
    "    'max_depth': [1, 2, 3], \n",
    "    'n_estimators': n_trees,\n",
    "    'min_child_weight': [1, 2, 3]\n",
    "}\n",
    "\"\"\"\n",
    "    'learning_rate': [0.1, 0.5, 1, 2, 3, 4, 5],\n",
    "    'max_depth': [1, 2, 3, 4, 5], \n",
    "    'n_estimators': n_trees,\n",
    "    'min_child_weight': [1, 2, 3, 4, 5]\n",
    "\"\"\"\n",
    "xgb_par = xgb.XGBClassifier()\n",
    "clf = GridSearchCV(xgb_par, parameters)\n",
    "clf.fit(bioresponce_data, bioresponce_target)\n",
    "clf.best_score_\n",
    "clf.best_params_"
   ]
  },
  {
   "cell_type": "code",
   "execution_count": 14,
   "metadata": {},
   "outputs": [
    {
     "name": "stdout",
     "output_type": "stream",
     "text": [
      "0.782458011197 {'learning_rate': 0.5, 'max_depth': 2, 'min_child_weight': 1, 'n_estimators': 50}\n"
     ]
    }
   ],
   "source": [
    "print(clf.best_score_, clf.best_params_)\n"
   ]
  },
  {
   "cell_type": "code",
   "execution_count": 33,
   "metadata": {},
   "outputs": [
    {
     "name": "stdout",
     "output_type": "stream",
     "text": [
      "{'n_estimators': 50, 'min_child_weight': 1, 'max_depth': 2, 'learning_rate': 0.5} 0.782458011197\n"
     ]
    }
   ],
   "source": [
    "# %%time\n",
    "\n",
    "# My RandomizedSearchCV\n",
    "from sklearn.model_selection import RandomizedSearchCV\n",
    "param_distributions={\n",
    "    'learning_rate': [0.4, 0.5, 0.8],\n",
    "    'max_depth': [1, 2], \n",
    "    'n_estimators': n_trees,\n",
    "    'min_child_weight': [0.5, 1, 1.5]\n",
    "}\n",
    "res = RandomizedSearchCV(xgb.XGBClassifier(), param_distributions, n_iter=100)\n",
    "res.fit(bioresponce_data,  bioresponce_target)\n",
    "\n",
    "\"\"\"    \n",
    "    'learning_rate': [0.4, 0.5, 0.8],\n",
    "    'max_depth': [1.5, 2, 2.5], \n",
    "    'n_estimators': 50,\n",
    "    'min_child_weight': [0.5, 1, 1.5]\n",
    "    \n",
    "\"\"\"\n",
    "\n",
    "\n",
    "print(res.best_params_, res.best_score_)"
   ]
  },
  {
   "cell_type": "code",
   "execution_count": null,
   "metadata": {
    "collapsed": true
   },
   "outputs": [],
   "source": []
  }
 ],
 "metadata": {
  "anaconda-cloud": {},
  "kernelspec": {
   "display_name": "Python 3",
   "language": "python",
   "name": "python3"
  },
  "language_info": {
   "codemirror_mode": {
    "name": "ipython",
    "version": 3
   },
   "file_extension": ".py",
   "mimetype": "text/x-python",
   "name": "python",
   "nbconvert_exporter": "python",
   "pygments_lexer": "ipython3",
   "version": "3.6.1"
  }
 },
 "nbformat": 4,
 "nbformat_minor": 1
}
