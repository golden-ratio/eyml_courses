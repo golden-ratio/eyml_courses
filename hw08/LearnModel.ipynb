{
 "cells": [
  {
   "cell_type": "markdown",
   "metadata": {},
   "source": [
    "# Быстрое обучение модели"
   ]
  },
  {
   "cell_type": "markdown",
   "metadata": {},
   "source": [
    "Мы собрали данные по докторам, теперь мы можем обучить простую модель для предсказания стоимости приёма"
   ]
  },
  {
   "cell_type": "code",
   "execution_count": 3,
   "metadata": {
    "collapsed": true
   },
   "outputs": [],
   "source": [
    "import json\n",
    "import numpy as np\n"
   ]
  },
  {
   "cell_type": "markdown",
   "metadata": {},
   "source": [
    "Загрузим данные из JSON-a"
   ]
  },
  {
   "cell_type": "code",
   "execution_count": 5,
   "metadata": {
    "collapsed": true
   },
   "outputs": [],
   "source": [
    "with open('kinopoisk.json', 'r') as f:\n",
    "    kinopoisk = json.load(f)"
   ]
  },
  {
   "cell_type": "markdown",
   "metadata": {},
   "source": [
    "Проверим содержимое объекта"
   ]
  },
  {
   "cell_type": "code",
   "execution_count": 6,
   "metadata": {},
   "outputs": [
    {
     "data": {
      "text/plain": [
       "{'assessment': 1,\n",
       " 'author': 'FRIDMON',\n",
       " 'date': '13 февраля 2018',\n",
       " 'film': 'Камила',\n",
       " 'review': '\\n      «Ребёнок стоит ближе меня, ближе каждого взрослого человека к\\xa0тому идеалу гармонии, красоты и\\xa0добра, до\\xa0которого я\\xa0в своей гордости хочу возвести его». (Лев Толстой)\\n\\nЕсть фильмы, которые невозможно «разложить по\\xa0полочкам», потому что\\xa0душа человеческая\\xa0—\\xa0это не\\xa0библиотечный стеллаж. Вот\\xa0и работу Мухтара Ага-Мирзаева очень сложно описать словами, потому что\\xa0вся она\\xa0от начала до\\xa0конца букально пропитана музыкой. Музыка здесь повсюду. Наравне с\\xa0семилетней Камилой она\\xa0является главным персонажем картины. Остаётся лишь удивляться, как\\xa0режиссёру удалось столь тонко, поистине филигранно вплести музыку в\\xa0канву повествования. Разумеется, это\\xa0заслуга не\\xa0одного режиссёра. Искренняя благодарность всем без\\xa0исключения создателям картины\\xa0—\\xa0сценаристам Камилу Икрамову и\\xa0Ольге Сидельниковой за\\xa0историю, в\\xa0которой нет\\xa0ни одной лишней минуты. Оператору Хатаму Файзиеву, сумевшему через оптику кинокамеры донести до\\xa0зрителей внутренний мир\\xa0девочки. Композитору Румилю Вильданову, позволившему зрителям в\\xa0буквальном смысле прикоснуться к\\xa0«Музыке Сфер». \\n\\nМузыка не\\xa0отделима от\\xa0человека, как\\xa0человек не\\xa0отделим от\\xa0музыки. Мы\\xa0связаны с\\xa0ней тысячами невидимых нитей: от\\xa0самого большого до\\xa0самого малого. Ритм заложен в\\xa0основе жизни Вселенной, но\\xa0и сердце крохотного атома пульсирует тоже ритмически. По\\xa0сути вся\\xa0наша жизнь\\xa0—\\xa0это музыка, которую мы, вырастая, перестаём слышать. Но\\xa0дети ещё способны ощущать эту\\xa0прочную связь с\\xa0мировой гармонией. Не\\xa0все из\\xa0них способны впустить её в\\xa0своё сердце, но\\xa0те, кому это\\xa0удаётся, начинают видеть окружающий мир\\xa0по-другому\\xa0—\\xa0как Камила. Для\\xa0неё зрительные образы мгновенно интерпретируются в\\xa0музыкальные инструменты с\\xa0характерным для\\xa0них звучанием. Сама девочка ещё не\\xa0знает многих «умных» слов, не\\xa0знает даже названий всех инструментов, зато она\\xa0может слышать Музыку в\\xa0первооснове. Слышать и\\xa0воспроизводить её для\\xa0слушателей. Но\\xa0не для\\xa0всех, а\\xa0только для\\xa0тех, кто\\xa0верит в\\xa0неё, кто\\xa0любит её, а\\xa0значит находится с\\xa0ней в\\xa0резонансе. \\n\\nБесподобно сыграла свою роль Дильноз Расулова. В\\xa0коллективе ярких, талантливых актёров она\\xa0выглядит настоящим бриллиантом. Бриллиантом искренности и\\xa0естественности. Фильм получился крайне эмоциональным в\\xa0показе того, как\\xa0важно не\\xa0ломать хрупкий мир\\xa0ребёнка. Как\\xa0важно понимать его, даже если его\\xa0поступки выглядят странно. Щедрой на\\xa0душевное тепло получилась картина. А\\xa0ещё\\xa0—\\xa0почти сказочной, с\\xa0необыкновенной, потрясающей музыкой.\\n\\n«На карте Каспий и\\xa0Арал, и\\xa0Гималаи, но\\xa0всё же, школа, ты\\xa0без нас\\xa0—\\xa0совсем иная. Пока на\\xa0глобусе во\\xa0мгле поля и\\xa0горы, ты\\xa0снишься нам, а\\xa0мы\\xa0—\\xa0тебе, родная школа!»\\n      '}"
      ]
     },
     "execution_count": 6,
     "metadata": {},
     "output_type": "execute_result"
    }
   ],
   "source": [
    "kinopoisk[0]"
   ]
  },
  {
   "cell_type": "markdown",
   "metadata": {},
   "source": [
    "Создадим выборку для обучения\n",
    "\n",
    "Удобно в комментариях писать название признака"
   ]
  },
  {
   "cell_type": "code",
   "execution_count": 7,
   "metadata": {
    "collapsed": true
   },
   "outputs": [],
   "source": [
    "X, y = [], []\n",
    "\n",
    "for kino in kinopoisk:\n",
    "    features = []\n",
    "    # 0 - author\n",
    "    features.append(kino['author'])\n",
    "    # 1 - date\n",
    "    features.append(kino['date'])\n",
    "    # 2 - film\n",
    "    features.append(kino['film'])\n",
    "    # 3 - review\n",
    "    features.append(kino['review'])\n",
    "    # 4 - 87 one hot proffesions\n",
    "    \n",
    "    X.append(features)\n",
    "    y.append(kino['assessment'] or 0)\n",
    "    \n",
    "X = np.array(X)\n",
    "y = np.array(y)"
   ]
  },
  {
   "cell_type": "code",
   "execution_count": 8,
   "metadata": {},
   "outputs": [
    {
     "name": "stdout",
     "output_type": "stream",
     "text": [
      "548 548 <class 'numpy.ndarray'>\n",
      "\n",
      "      «Ребёнок стоит ближе меня, ближе каждого взрослого человека к тому идеалу гармонии, красоты и добра, до которого я в своей гордости хочу возвести его». (Лев Толстой)\n",
      "\n",
      "Есть фильмы, которые невозможно «разложить по полочкам», потому что душа человеческая — это не библиотечный стеллаж. Вот и работу Мухтара Ага-Мирзаева очень сложно описать словами, потому что вся она от начала до конца букально пропитана музыкой. Музыка здесь повсюду. Наравне с семилетней Камилой она является главным персонажем картины. Остаётся лишь удивляться, как режиссёру удалось столь тонко, поистине филигранно вплести музыку в канву повествования. Разумеется, это заслуга не одного режиссёра. Искренняя благодарность всем без исключения создателям картины — сценаристам Камилу Икрамову и Ольге Сидельниковой за историю, в которой нет ни одной лишней минуты. Оператору Хатаму Файзиеву, сумевшему через оптику кинокамеры донести до зрителей внутренний мир девочки. Композитору Румилю Вильданову, позволившему зрителям в буквальном смысле прикоснуться к «Музыке Сфер». \n",
      "\n",
      "Музыка не отделима от человека, как человек не отделим от музыки. Мы связаны с ней тысячами невидимых нитей: от самого большого до самого малого. Ритм заложен в основе жизни Вселенной, но и сердце крохотного атома пульсирует тоже ритмически. По сути вся наша жизнь — это музыка, которую мы, вырастая, перестаём слышать. Но дети ещё способны ощущать эту прочную связь с мировой гармонией. Не все из них способны впустить её в своё сердце, но те, кому это удаётся, начинают видеть окружающий мир по-другому — как Камила. Для неё зрительные образы мгновенно интерпретируются в музыкальные инструменты с характерным для них звучанием. Сама девочка ещё не знает многих «умных» слов, не знает даже названий всех инструментов, зато она может слышать Музыку в первооснове. Слышать и воспроизводить её для слушателей. Но не для всех, а только для тех, кто верит в неё, кто любит её, а значит находится с ней в резонансе. \n",
      "\n",
      "Бесподобно сыграла свою роль Дильноз Расулова. В коллективе ярких, талантливых актёров она выглядит настоящим бриллиантом. Бриллиантом искренности и естественности. Фильм получился крайне эмоциональным в показе того, как важно не ломать хрупкий мир ребёнка. Как важно понимать его, даже если его поступки выглядят странно. Щедрой на душевное тепло получилась картина. А ещё — почти сказочной, с необыкновенной, потрясающей музыкой.\n",
      "\n",
      "«На карте Каспий и Арал, и Гималаи, но всё же, школа, ты без нас — совсем иная. Пока на глобусе во мгле поля и горы, ты снишься нам, а мы — тебе, родная школа!»\n",
      "      \n"
     ]
    }
   ],
   "source": [
    "print(len(X), len(y), type(X))\n",
    "print(X[0][3])"
   ]
  },
  {
   "cell_type": "code",
   "execution_count": 9,
   "metadata": {
    "collapsed": true
   },
   "outputs": [],
   "source": [
    "from sklearn.feature_extraction.text import CountVectorizer\n",
    "\n",
    "vectorizer = CountVectorizer(\n",
    "    analyzer = 'word',\n",
    "    lowercase = False,\n",
    ")\n",
    "features = vectorizer.fit_transform(X[:,3])\n",
    "features_nd = features.toarray() # for easy usage"
   ]
  },
  {
   "cell_type": "code",
   "execution_count": 10,
   "metadata": {},
   "outputs": [],
   "source": [
    "from sklearn.cross_validation import train_test_split\n",
    " \n",
    "X_train, X_test, y_train, y_test  = train_test_split(\n",
    "        features_nd, \n",
    "        y,\n",
    "        train_size=0.80, \n",
    "        random_state=1234)"
   ]
  },
  {
   "cell_type": "markdown",
   "metadata": {},
   "source": [
    "Обучим простые модели"
   ]
  },
  {
   "cell_type": "code",
   "execution_count": 11,
   "metadata": {
    "collapsed": true
   },
   "outputs": [],
   "source": [
    "from sklearn.model_selection import cross_val_score\n",
    "from sklearn.linear_model import LinearRegression\n",
    "from sklearn.ensemble import RandomForestRegressor\n",
    "from sklearn.neighbors import KNeighborsRegressor\n",
    "from sklearn.dummy import DummyRegressor"
   ]
  },
  {
   "cell_type": "markdown",
   "metadata": {},
   "source": [
    "DummyRegressor это простой бейзлайн - предсказание константой"
   ]
  },
  {
   "cell_type": "code",
   "execution_count": 31,
   "metadata": {},
   "outputs": [
    {
     "data": {
      "text/plain": [
       "0.61288932694104825"
      ]
     },
     "execution_count": 31,
     "metadata": {},
     "output_type": "execute_result"
    }
   ],
   "source": [
    "np.sqrt(-cross_val_score(DummyRegressor(), X_train, y_train, cv=3, scoring='neg_mean_squared_error').mean())"
   ]
  },
  {
   "cell_type": "code",
   "execution_count": 32,
   "metadata": {},
   "outputs": [
    {
     "data": {
      "text/plain": [
       "0.61288932694104825"
      ]
     },
     "execution_count": 32,
     "metadata": {},
     "output_type": "execute_result"
    }
   ],
   "source": [
    "np.sqrt(-cross_val_score(LinearRegression(), X_train, y_train, cv=3, scoring='neg_mean_squared_error').mean())"
   ]
  },
  {
   "cell_type": "code",
   "execution_count": 33,
   "metadata": {},
   "outputs": [
    {
     "data": {
      "text/plain": [
       "0.61288935883445983"
      ]
     },
     "execution_count": 33,
     "metadata": {},
     "output_type": "execute_result"
    }
   ],
   "source": [
    "np.sqrt(-cross_val_score(RandomForestRegressor(), X_train, y_train, cv=3, scoring='neg_mean_squared_error').mean())"
   ]
  },
  {
   "cell_type": "code",
   "execution_count": 34,
   "metadata": {},
   "outputs": [
    {
     "data": {
      "text/plain": [
       "0.61292445748474889"
      ]
     },
     "execution_count": 34,
     "metadata": {},
     "output_type": "execute_result"
    }
   ],
   "source": [
    "np.sqrt(-cross_val_score(RandomForestRegressor(n_estimators=100), X_train, y_train, cv=3, scoring='neg_mean_squared_error').mean())"
   ]
  },
  {
   "cell_type": "code",
   "execution_count": 35,
   "metadata": {},
   "outputs": [
    {
     "data": {
      "text/plain": [
       "0.73173341453997975"
      ]
     },
     "execution_count": 35,
     "metadata": {},
     "output_type": "execute_result"
    }
   ],
   "source": [
    "np.sqrt(-cross_val_score(KNeighborsRegressor(), X_train, y_train, cv=3, scoring='neg_mean_squared_error').mean())"
   ]
  },
  {
   "cell_type": "code",
   "execution_count": 36,
   "metadata": {},
   "outputs": [
    {
     "data": {
      "text/plain": [
       "0.72732072278325355"
      ]
     },
     "execution_count": 36,
     "metadata": {},
     "output_type": "execute_result"
    }
   ],
   "source": [
    "np.sqrt(-cross_val_score(KNeighborsRegressor(n_neighbors=10), X_train, y_train, cv=3, scoring='neg_mean_squared_error').mean())"
   ]
  },
  {
   "cell_type": "code",
   "execution_count": 1,
   "metadata": {},
   "outputs": [
    {
     "name": "stderr",
     "output_type": "stream",
     "text": [
      "/Users/Timur/anaconda3/lib/python3.6/site-packages/sklearn/cross_validation.py:41: DeprecationWarning: This module was deprecated in version 0.18 in favor of the model_selection module into which all the refactored classes and functions are moved. Also note that the interface of the new CV iterators are different from that of this module. This module will be removed in 0.20.\n",
      "  \"This module will be removed in 0.20.\", DeprecationWarning)\n"
     ]
    }
   ],
   "source": [
    "import xgboost as xgb"
   ]
  },
  {
   "cell_type": "code",
   "execution_count": 12,
   "metadata": {},
   "outputs": [
    {
     "data": {
      "text/plain": [
       "0.61288932272326102"
      ]
     },
     "execution_count": 12,
     "metadata": {},
     "output_type": "execute_result"
    }
   ],
   "source": [
    "np.sqrt(-cross_val_score(xgb.XGBRegressor(), X_train, y_train, cv=3, scoring='neg_mean_squared_error').mean())"
   ]
  },
  {
   "cell_type": "markdown",
   "metadata": {},
   "source": [
    "xgboost лучше всех, посмотрим на самые важность признаков"
   ]
  },
  {
   "cell_type": "code",
   "execution_count": null,
   "metadata": {},
   "outputs": [],
   "source": [
    "algo = xgb.XGBRegressor().fit(X_train, y_train)\n",
    "sorted(zip(algo.feature_importances_, range(X.shape[1])), reverse=True)"
   ]
  },
  {
   "cell_type": "code",
   "execution_count": null,
   "metadata": {},
   "outputs": [],
   "source": [
    "sorted(zip(algo.feature_importances_, range(X.shape[1])), reverse=True)[:7]"
   ]
  },
  {
   "cell_type": "markdown",
   "metadata": {},
   "source": [
    "0 - experience\n",
    "\n",
    "3 - len(proffesions)\n",
    "\n",
    "2 - is_phd"
   ]
  },
  {
   "cell_type": "markdown",
   "metadata": {},
   "source": [
    "Сохраним модель"
   ]
  },
  {
   "cell_type": "code",
   "execution_count": 15,
   "metadata": {
    "collapsed": true
   },
   "outputs": [],
   "source": [
    "algo.booster().save_model('xgboost_model')"
   ]
  },
  {
   "cell_type": "markdown",
   "metadata": {},
   "source": [
    "Загрузим модель с диска и проверим, что всё корректно"
   ]
  },
  {
   "cell_type": "code",
   "execution_count": 25,
   "metadata": {
    "collapsed": true
   },
   "outputs": [],
   "source": [
    "bst = xgb.Booster()\n",
    "bst.load_model('xgboost_model')"
   ]
  },
  {
   "cell_type": "code",
   "execution_count": 26,
   "metadata": {
    "collapsed": true
   },
   "outputs": [],
   "source": [
    "clf = xgb.XGBRegressor()\n",
    "booster = xgb.Booster()\n",
    "booster.load_model('xgboost_model')\n",
    "clf._Booster = booster"
   ]
  },
  {
   "cell_type": "code",
   "execution_count": 27,
   "metadata": {},
   "outputs": [
    {
     "data": {
      "text/plain": [
       "array([2006.3156, 2191.837 , 2861.2122, ..., 2339.8147,  565.0743,\n",
       "       1137.5759], dtype=float32)"
      ]
     },
     "execution_count": 27,
     "metadata": {},
     "output_type": "execute_result"
    }
   ],
   "source": [
    "clf.predict(X)"
   ]
  },
  {
   "cell_type": "code",
   "execution_count": 28,
   "metadata": {},
   "outputs": [
    {
     "data": {
      "text/plain": [
       "array([2006.3156, 2191.837 , 2861.2122, ..., 2339.8147,  565.0743,\n",
       "       1137.5759], dtype=float32)"
      ]
     },
     "execution_count": 28,
     "metadata": {},
     "output_type": "execute_result"
    }
   ],
   "source": [
    "algo.predict(X)"
   ]
  },
  {
   "cell_type": "code",
   "execution_count": 39,
   "metadata": {
    "collapsed": true
   },
   "outputs": [],
   "source": [
    "\n"
   ]
  },
  {
   "cell_type": "code",
   "execution_count": null,
   "metadata": {
    "collapsed": true
   },
   "outputs": [],
   "source": [
    "# save the model to disk\n",
    "filename = 'finalized_model.sav'\n",
    "pickle.dump(model, open(filename, 'wb'))\n",
    " \n",
    "# some time later...\n",
    " \n",
    "# load the model from disk\n",
    "loaded_model = pickle.load(open(filename, 'rb'))\n",
    "result = loaded_model.score(X_test, Y_test)\n",
    "print(result)"
   ]
  }
 ],
 "metadata": {
  "kernelspec": {
   "display_name": "Python 3",
   "language": "python",
   "name": "python3"
  },
  "language_info": {
   "codemirror_mode": {
    "name": "ipython",
    "version": 3
   },
   "file_extension": ".py",
   "mimetype": "text/x-python",
   "name": "python",
   "nbconvert_exporter": "python",
   "pygments_lexer": "ipython3",
   "version": "3.6.1"
  }
 },
 "nbformat": 4,
 "nbformat_minor": 2
}
