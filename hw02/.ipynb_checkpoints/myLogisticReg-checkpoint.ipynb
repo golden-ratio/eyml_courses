{
 "cells": [
  {
   "cell_type": "code",
   "execution_count": 14,
   "metadata": {
    "collapsed": true
   },
   "outputs": [],
   "source": [
    "from sklearn.linear_model import LogisticRegression\n",
    "from sklearn.metrics import accuracy_score\n",
    "from sklearn.model_selection import cross_val_score\n",
    "from sklearn.model_selection import GridSearchCV\n",
    "import numpy as np"
   ]
  },
  {
   "cell_type": "code",
   "execution_count": 28,
   "metadata": {},
   "outputs": [
    {
     "data": {
      "text/plain": [
       "array([[  1.79900000e+01,   1.03800000e+01,   1.22800000e+02, ...,\n",
       "          2.65400000e-01,   4.60100000e-01,   1.18900000e-01],\n",
       "       [  2.05700000e+01,   1.77700000e+01,   1.32900000e+02, ...,\n",
       "          1.86000000e-01,   2.75000000e-01,   8.90200000e-02],\n",
       "       [  1.96900000e+01,   2.12500000e+01,   1.30000000e+02, ...,\n",
       "          2.43000000e-01,   3.61300000e-01,   8.75800000e-02],\n",
       "       ..., \n",
       "       [  1.66000000e+01,   2.80800000e+01,   1.08300000e+02, ...,\n",
       "          1.41800000e-01,   2.21800000e-01,   7.82000000e-02],\n",
       "       [  2.06000000e+01,   2.93300000e+01,   1.40100000e+02, ...,\n",
       "          2.65000000e-01,   4.08700000e-01,   1.24000000e-01],\n",
       "       [  7.76000000e+00,   2.45400000e+01,   4.79200000e+01, ...,\n",
       "          0.00000000e+00,   2.87100000e-01,   7.03900000e-02]])"
      ]
     },
     "execution_count": 28,
     "metadata": {},
     "output_type": "execute_result"
    }
   ],
   "source": [
    "#Load data\n",
    "from sklearn.datasets import load_breast_cancer\n",
    "\n",
    "all_categories = load_breast_cancer().data\n",
    "# all_categories"
   ]
  },
  {
   "cell_type": "code",
   "execution_count": 37,
   "metadata": {},
   "outputs": [
    {
     "name": "stdout",
     "output_type": "stream",
     "text": [
      "(381, 30) (188, 30) (381,) (188,)\n"
     ]
    }
   ],
   "source": [
    "from sklearn.model_selection import train_test_split\n",
    "target = load_breast_cancer().target\n",
    "data = load_breast_cancer().data\n",
    "# print(target)\n",
    "x_train, x_test, y_train, y_test = train_test_split(data, target, test_size=0.33, random_state=42)\n",
    "print(x_train.shape, x_test.shape, y_train.shape, y_test.shape)"
   ]
  },
  {
   "cell_type": "code",
   "execution_count": 44,
   "metadata": {},
   "outputs": [
    {
     "name": "stdout",
     "output_type": "stream",
     "text": [
      "(381, 30) (381,)\n",
      "[[  1.54600000e+01   1.18900000e+01   1.02500000e+02 ...,   1.82700000e-01\n",
      "    3.21600000e-01   1.01000000e-01]\n",
      " [  1.28500000e+01   2.13700000e+01   8.26300000e+01 ...,   5.60100000e-02\n",
      "    2.48800000e-01   8.15100000e-02]\n",
      " [  1.92100000e+01   1.85700000e+01   1.25500000e+02 ...,   2.09100000e-01\n",
      "    3.53700000e-01   8.29400000e-02]\n",
      " ..., \n",
      " [  1.42900000e+01   1.68200000e+01   9.03000000e+01 ...,   3.33300000e-02\n",
      "    2.45800000e-01   6.12000000e-02]\n",
      " [  1.39800000e+01   1.96200000e+01   9.11200000e+01 ...,   1.82700000e-01\n",
      "    3.17900000e-01   1.05500000e-01]\n",
      " [  1.21800000e+01   2.05200000e+01   7.72200000e+01 ...,   7.43100000e-02\n",
      "    2.69400000e-01   6.87800000e-02]]\n",
      "Predict:  [1 0 0 1 1 0 0 0 1 1 1 0 1 0 1 0 1 1 1 0 1 1 0 1 1 1 1 1 1 0 1 1 1 1 1 1 0\n",
      " 1 0 1 1 0 1 1 1 1 1 1 1 1 0 0 1 1 1 1 1 0 1 1 1 0 0 1 1 1 0 0 1 1 0 0 1 0\n",
      " 1 1 1 1 1 1 0 1 1 0 0 0 0 0 1 1 1 1 1 1 1 1 0 0 1 0 0 1 0 0 1 1 1 0 1 1 0\n",
      " 1 0 0 1 0 1 1 1 0 0 1 1 0 1 0 0 1 1 0 0 0 1 1 1 0 1 1 1 0 1 0 1 1 0 1 0 0\n",
      " 0 1 0 1 1 1 1 0 0 1 1 1 1 1 1 1 0 1 1 1 1 0 1 1 1 1 1 1 0 1 1 1 1 0 1 0 0\n",
      " 0 0 1]\n",
      "Accuracy:  0.957446808511\n",
      "[ 0.9375      0.97637795  0.92063492] 0.944837624464\n"
     ]
    }
   ],
   "source": [
    "# Train our classifier\n",
    "modelLR = LogisticRegression()\n",
    "# train = train.reshape(1, -1)\n",
    "# train_labels = np.ravel(train_labels)\n",
    "print(x_train.shape, y_train.shape)\n",
    "print(train_labels)\n",
    "model = modelLR.fit(x_train, y_train)\n",
    "\n",
    "# Make predictions\n",
    "preds = model.predict(x_test)\n",
    "print(\"Predict: \", preds)\n",
    "# Evaluate accuracy\n",
    "print(\"Accuracy: \", accuracy_score(y_test, preds))\n",
    "arr = cross_val_score(modelLR, x_train, y_train, cv=3, scoring='accuracy')\n",
    "print (arr, np.mean(arr))"
   ]
  },
  {
   "cell_type": "code",
   "execution_count": null,
   "metadata": {
    "collapsed": true
   },
   "outputs": [],
   "source": []
  }
 ],
 "metadata": {
  "kernelspec": {
   "display_name": "Python 3",
   "language": "python",
   "name": "python3"
  },
  "language_info": {
   "codemirror_mode": {
    "name": "ipython",
    "version": 3
   },
   "file_extension": ".py",
   "mimetype": "text/x-python",
   "name": "python",
   "nbconvert_exporter": "python",
   "pygments_lexer": "ipython3",
   "version": "3.6.3"
  }
 },
 "nbformat": 4,
 "nbformat_minor": 2
}
