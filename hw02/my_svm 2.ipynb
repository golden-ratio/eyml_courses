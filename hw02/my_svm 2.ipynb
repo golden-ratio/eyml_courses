{
 "cells": [
  {
   "cell_type": "markdown",
   "metadata": {},
   "source": [
    "# Линейный SVM \"своими руками\""
   ]
  },
  {
   "cell_type": "markdown",
   "metadata": {},
   "source": [
    "## Генерируем обучающую и тестовую выборку для экспериментов"
   ]
  },
  {
   "cell_type": "code",
   "execution_count": 2,
   "metadata": {},
   "outputs": [
    {
     "name": "stdout",
     "output_type": "stream",
     "text": [
      "10000 10000\n",
      "8000\n"
     ]
    }
   ],
   "source": [
    "from sklearn.model_selection import train_test_split\n",
    "from sklearn import datasets\n",
    "\n",
    "X, y = datasets.make_classification(\n",
    "    n_samples=10000, n_features=20, \n",
    "    n_classes=2, n_informative=20, \n",
    "    n_redundant=0,\n",
    "    random_state=42\n",
    ")\n",
    "\n",
    "X_train, X_test, y_train, y_test = train_test_split(\n",
    "    X, y, \n",
    "    test_size=0.2,\n",
    "    random_state=42\n",
    ")\n",
    "\n",
    "print(len(X), len(y))\n",
    "print(len(X_train))"
   ]
  },
  {
   "cell_type": "markdown",
   "metadata": {},
   "source": [
    "## Пишем свой класс для SVM"
   ]
  },
  {
   "cell_type": "code",
   "execution_count": 14,
   "metadata": {
    "collapsed": true
   },
   "outputs": [],
   "source": [
    "# coding=utf-8\n",
    "import numpy as np\n",
    "from sklearn.base import BaseEstimator\n",
    "\n",
    "\n",
    "SVM_PARAMS_DICT = {\n",
    "    'C': 10.,\n",
    "    'random_state': 777,\n",
    "    'iters': 10000,\n",
    "    'batch_size': 100,\n",
    "    'step': 0.015\n",
    "}\n",
    "\n",
    "\n",
    "class MySVM(BaseEstimator):\n",
    "    def __init__(self, C, random_state, iters, batch_size, step):\n",
    "        self.C = C\n",
    "        self.random_state = random_state\n",
    "        self.iters = iters\n",
    "        self.batch_size = batch_size\n",
    "        self.step = step\n",
    "\n",
    "    # будем пользоваться этой функцией для подсчёта <w, x>\n",
    "    def __predict(self, X):\n",
    "        return np.dot(X, self.w) + self.w0\n",
    "\n",
    "    # sklearn нужно, чтобы predict возвращал классы, поэтому оборачиваем наш __predict в это\n",
    "    def predict(self, X):\n",
    "        res = self.__predict(X)\n",
    "        res[res > 0] = 1\n",
    "        res[res < 0] = 0\n",
    "        return res\n",
    "    \n",
    "    # производная регуляризатора\n",
    "    def der_reg(self):\n",
    "        return 1. / self.C * self.w\n",
    "\n",
    "    # будем считать стохастический градиент не на одном элементе, а сразу на пачке (чтобы было эффективнее)\n",
    "    def der_loss(self, x, y):\n",
    "        # s.shape == (batch_size, features)\n",
    "        # y.shape == (batch_size,)\n",
    "\n",
    "        # считаем производную по каждой координате на каждом объекте\n",
    "        pred = self.predict(x)\n",
    "\n",
    "        # занулить производные там, где отступ > 1\n",
    "        pred[pred > 1] = 0\n",
    "\n",
    "        # для масштаба возвращаем средний градиент по пачке\n",
    "        \n",
    "        return np.mean(pred)\n",
    "\n",
    "    def fit(self, X_train, y_train):\n",
    "        # RandomState для воспроизводитмости\n",
    "        random_gen = np.random.RandomState(self.random_state)\n",
    "        \n",
    "        # получаем размерности матрицы\n",
    "        size, dim = X_train.shape\n",
    "        \n",
    "        # случайная начальная инициализация\n",
    "        self.w = random_gen.rand(dim)\n",
    "        self.w0 = random_gen.randn()\n",
    "\n",
    "        for _ in range(self.iters):  \n",
    "            # берём случайный набор элементов\n",
    "            rand_indices = random_gen.choice(size, self.batch_size)\n",
    "            x = X_train[rand_indices]\n",
    "            y = y_train[rand_indices] * 2 - 1 # исходные метки классов это 0/1 а нам надо -1/1\n",
    "            \n",
    "#             print(x.shape, y.shape)\n",
    "            # считаем производные\n",
    "            self.w -= self.step * np.dot(x.T, y) * self.der_loss(x,y)\n",
    "\n",
    "            # обновляемся по антиградиенту\n",
    "            self.w0 -= self.step * y * self.der_loss(x,y)\n",
    "\n",
    "        # метод fit для sklearn должен возвращать self\n",
    "        return self"
   ]
  },
  {
   "cell_type": "markdown",
   "metadata": {},
   "source": [
    "## Пробуем обучить наш классификатор и посмотреть на качество на тесте"
   ]
  },
  {
   "cell_type": "code",
   "execution_count": 13,
   "metadata": {},
   "outputs": [
    {
     "name": "stdout",
     "output_type": "stream",
     "text": [
      "[   67.1418887   3800.64446516   -66.38194882 -4142.06675674   105.73930232\n",
      " -3633.14305382 -3547.69120486    50.57275398  3544.54876303  3591.66311292\n",
      "   432.74519899 -3545.85226361 -3571.9973232  -3785.44152787  7258.71531523\n",
      "  -311.2737768  -3398.01172686 -3509.10902984   254.49040724 -3647.94009493] [-0.32856751 -0.73506751 -0.66846751 -0.55716751 -0.44346751 -0.29856751\n",
      " -0.88296751  0.20453249 -0.40746751 -0.38196751 -1.33596751 -1.38306751\n",
      " -0.35496751  0.23423249 -0.32946751 -0.64056751 -1.21086751 -1.54956751\n",
      " -0.59616751  0.16043249  0.14633249  1.69853249 -0.17286751 -0.54726751\n",
      " -1.09086751 -1.04616751 -0.97116751  0.21323249 -1.08546751 -0.57576751\n",
      " -0.59526751 -0.74346751  0.91133249 -0.71496751 -0.51816751 -0.55776751\n",
      " -0.99816751  0.17393249  0.21983249  1.00523249  0.30473249 -0.92166751\n",
      "  1.41743249  0.27563249 -0.72396751  0.49883249  0.84863249 -1.13556751\n",
      " -0.19206751  0.40283249  0.16103249  0.41933249 -1.71396751 -0.07386751\n",
      "  0.62633249  1.09883249  0.81593249 -0.95376751 -0.51546751 -0.98496751\n",
      "  0.66083249  0.97793249 -0.21486751  0.14633249  0.33623249 -0.07296751\n",
      "  0.45743249  0.01163249  0.49343249  0.42023249 -0.59736751 -0.86046751\n",
      "  0.91733249 -1.29756751 -0.36636751 -0.77946751 -0.61386751 -1.22106751\n",
      "  0.44423249  1.38383249 -2.24466751 -0.44226751  1.26443249 -0.86796751\n",
      " -0.74316751 -1.19946751 -0.39276751 -1.85796751 -0.65226751 -0.05136751\n",
      "  0.85553249  0.26903249 -0.49146751  0.97853249  0.52493249 -0.28746751\n",
      " -0.12246751 -1.34976751 -0.38196751 -0.69366751]\n"
     ]
    }
   ],
   "source": [
    "model = MySVM(10, 777, 10000, 100, 0.015)\n",
    "model.fit(X_train, y_train)\n",
    "print(model.w, model.w0)"
   ]
  },
  {
   "cell_type": "code",
   "execution_count": 15,
   "metadata": {},
   "outputs": [
    {
     "ename": "ValueError",
     "evalue": "operands could not be broadcast together with shapes (2000,) (100,) ",
     "output_type": "error",
     "traceback": [
      "\u001b[1;31m---------------------------------------------------------------------------\u001b[0m",
      "\u001b[1;31mValueError\u001b[0m                                Traceback (most recent call last)",
      "\u001b[1;32m<ipython-input-15-68c4da06170c>\u001b[0m in \u001b[0;36m<module>\u001b[1;34m()\u001b[0m\n\u001b[1;32m----> 1\u001b[1;33m \u001b[0mpredictions\u001b[0m \u001b[1;33m=\u001b[0m \u001b[0mmodel\u001b[0m\u001b[1;33m.\u001b[0m\u001b[0mpredict\u001b[0m\u001b[1;33m(\u001b[0m\u001b[0mX_test\u001b[0m\u001b[1;33m)\u001b[0m\u001b[1;33m\u001b[0m\u001b[0m\n\u001b[0m",
      "\u001b[1;32m<ipython-input-12-6ed5a9712636>\u001b[0m in \u001b[0;36mpredict\u001b[1;34m(self, X)\u001b[0m\n\u001b[0;32m     27\u001b[0m     \u001b[1;31m# sklearn нужно, чтобы predict возвращал классы, поэтому оборачиваем наш __predict в это\u001b[0m\u001b[1;33m\u001b[0m\u001b[1;33m\u001b[0m\u001b[0m\n\u001b[0;32m     28\u001b[0m     \u001b[1;32mdef\u001b[0m \u001b[0mpredict\u001b[0m\u001b[1;33m(\u001b[0m\u001b[0mself\u001b[0m\u001b[1;33m,\u001b[0m \u001b[0mX\u001b[0m\u001b[1;33m)\u001b[0m\u001b[1;33m:\u001b[0m\u001b[1;33m\u001b[0m\u001b[0m\n\u001b[1;32m---> 29\u001b[1;33m         \u001b[0mres\u001b[0m \u001b[1;33m=\u001b[0m \u001b[0mself\u001b[0m\u001b[1;33m.\u001b[0m\u001b[0m__predict\u001b[0m\u001b[1;33m(\u001b[0m\u001b[0mX\u001b[0m\u001b[1;33m)\u001b[0m\u001b[1;33m\u001b[0m\u001b[0m\n\u001b[0m\u001b[0;32m     30\u001b[0m         \u001b[0mres\u001b[0m\u001b[1;33m[\u001b[0m\u001b[0mres\u001b[0m \u001b[1;33m>\u001b[0m \u001b[1;36m0\u001b[0m\u001b[1;33m]\u001b[0m \u001b[1;33m=\u001b[0m \u001b[1;36m1\u001b[0m\u001b[1;33m\u001b[0m\u001b[0m\n\u001b[0;32m     31\u001b[0m         \u001b[0mres\u001b[0m\u001b[1;33m[\u001b[0m\u001b[0mres\u001b[0m \u001b[1;33m<\u001b[0m \u001b[1;36m0\u001b[0m\u001b[1;33m]\u001b[0m \u001b[1;33m=\u001b[0m \u001b[1;36m0\u001b[0m\u001b[1;33m\u001b[0m\u001b[0m\n",
      "\u001b[1;32m<ipython-input-12-6ed5a9712636>\u001b[0m in \u001b[0;36m__predict\u001b[1;34m(self, X)\u001b[0m\n\u001b[0;32m     23\u001b[0m     \u001b[1;31m# будем пользоваться этой функцией для подсчёта <w, x>\u001b[0m\u001b[1;33m\u001b[0m\u001b[1;33m\u001b[0m\u001b[0m\n\u001b[0;32m     24\u001b[0m     \u001b[1;32mdef\u001b[0m \u001b[0m__predict\u001b[0m\u001b[1;33m(\u001b[0m\u001b[0mself\u001b[0m\u001b[1;33m,\u001b[0m \u001b[0mX\u001b[0m\u001b[1;33m)\u001b[0m\u001b[1;33m:\u001b[0m\u001b[1;33m\u001b[0m\u001b[0m\n\u001b[1;32m---> 25\u001b[1;33m         \u001b[1;32mreturn\u001b[0m \u001b[0mnp\u001b[0m\u001b[1;33m.\u001b[0m\u001b[0mdot\u001b[0m\u001b[1;33m(\u001b[0m\u001b[0mX\u001b[0m\u001b[1;33m,\u001b[0m \u001b[0mself\u001b[0m\u001b[1;33m.\u001b[0m\u001b[0mw\u001b[0m\u001b[1;33m)\u001b[0m \u001b[1;33m+\u001b[0m \u001b[0mself\u001b[0m\u001b[1;33m.\u001b[0m\u001b[0mw0\u001b[0m\u001b[1;33m\u001b[0m\u001b[0m\n\u001b[0m\u001b[0;32m     26\u001b[0m \u001b[1;33m\u001b[0m\u001b[0m\n\u001b[0;32m     27\u001b[0m     \u001b[1;31m# sklearn нужно, чтобы predict возвращал классы, поэтому оборачиваем наш __predict в это\u001b[0m\u001b[1;33m\u001b[0m\u001b[1;33m\u001b[0m\u001b[0m\n",
      "\u001b[1;31mValueError\u001b[0m: operands could not be broadcast together with shapes (2000,) (100,) "
     ]
    }
   ],
   "source": [
    "predictions = model.predict(X_test)"
   ]
  },
  {
   "cell_type": "code",
   "execution_count": 11,
   "metadata": {},
   "outputs": [
    {
     "name": "stdout",
     "output_type": "stream",
     "text": [
      "[0 1 0 ..., 1 1 1]\n"
     ]
    }
   ],
   "source": [
    "print(predictions)"
   ]
  },
  {
   "cell_type": "code",
   "execution_count": 12,
   "metadata": {},
   "outputs": [
    {
     "name": "stdout",
     "output_type": "stream",
     "text": [
      "[1 0 1 ..., 1 0 1] 2000 991\n"
     ]
    }
   ],
   "source": [
    "print(y_test, len(y_test), sum(y_test))"
   ]
  },
  {
   "cell_type": "code",
   "execution_count": 13,
   "metadata": {},
   "outputs": [
    {
     "name": "stdout",
     "output_type": "stream",
     "text": [
      "2000 1186\n"
     ]
    }
   ],
   "source": [
    "print(len(predictions), sum(predictions))"
   ]
  },
  {
   "cell_type": "code",
   "execution_count": 14,
   "metadata": {},
   "outputs": [
    {
     "name": "stdout",
     "output_type": "stream",
     "text": [
      "0.6085\n"
     ]
    }
   ],
   "source": [
    "print(sum(predictions == y_test) / float(len(y_test)))"
   ]
  },
  {
   "cell_type": "code",
   "execution_count": null,
   "metadata": {
    "collapsed": true
   },
   "outputs": [],
   "source": []
  },
  {
   "cell_type": "code",
   "execution_count": null,
   "metadata": {
    "collapsed": true
   },
   "outputs": [],
   "source": []
  }
 ],
 "metadata": {
  "anaconda-cloud": {},
  "kernelspec": {
   "display_name": "Python 3",
   "language": "python",
   "name": "python3"
  },
  "language_info": {
   "codemirror_mode": {
    "name": "ipython",
    "version": 3
   },
   "file_extension": ".py",
   "mimetype": "text/x-python",
   "name": "python",
   "nbconvert_exporter": "python",
   "pygments_lexer": "ipython3",
   "version": "3.6.3"
  }
 },
 "nbformat": 4,
 "nbformat_minor": 1
}
